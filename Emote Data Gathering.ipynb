{
 "cells": [
  {
   "cell_type": "code",
   "execution_count": 1,
   "metadata": {},
   "outputs": [],
   "source": [
    "import numpy as np\n",
    "import pandas as pd\n",
    "import swifter\n",
    "\n",
    "import yaml\n",
    "import importlib\n",
    "from selenium import webdriver\n",
    "from selenium.webdriver.chrome.options import Options\n",
    "from os import listdir\n",
    "from collections import Counter, defaultdict\n",
    "\n",
    "import get_emotes\n",
    "importlib.reload(get_emotes)\n",
    "import streaming_chat\n",
    "importlib.reload(streaming_chat)\n",
    "import constants"
   ]
  },
  {
   "cell_type": "code",
   "execution_count": 2,
   "metadata": {},
   "outputs": [],
   "source": [
    "bttv = f'{constants.extensions_path}/ajopnjidmegmdimjlfnijceegpefgped/7.2.80_0'\n",
    "ff = f'{constants.extensions_path}/fadndhdgpmmaapbmfcknlfgcflmmmieb/1.57_0'\n",
    "ublock= f'{constants.extensions_path}/cjpalhdlnbpafiamejdnhcphjbkeiagm/1.27.10_0'\n",
    "\n",
    "chrome_driver = constants.chrome_driver_path\n",
    "chrome_options = Options()\n",
    "chrome_options.add_argument(f'--load-extension={ff},{bttv},{ublock}')\n",
    "\n",
    "driver = webdriver.Chrome(chrome_driver, options=chrome_options)"
   ]
  },
  {
   "cell_type": "code",
   "execution_count": 5,
   "metadata": {},
   "outputs": [],
   "source": [
    "twitch_driver = get_emotes.TwitchSetup(driver)\n",
    "twitch_driver.login(\"ScrapingIsFun\", \"AutoScraperDSE\")\n",
    "twitch_driver.adjust_settings()"
   ]
  },
  {
   "cell_type": "code",
   "execution_count": 2,
   "metadata": {},
   "outputs": [],
   "source": [
    "with open(\"emotes.yaml\", 'r') as stream:\n",
    "    emotes = yaml.safe_load(stream)"
   ]
  },
  {
   "cell_type": "code",
   "execution_count": 40,
   "metadata": {},
   "outputs": [],
   "source": [
    "emote_list = []\n",
    "for channel in emotes.keys():\n",
    "    for emote_type in emotes[channel].keys():\n",
    "        for emote in emotes[channel][emote_type]:\n",
    "            emote_list.append({'name': emote, 'emote_type': emote_type, 'channel': channel})"
   ]
  },
  {
   "cell_type": "code",
   "execution_count": 147,
   "metadata": {},
   "outputs": [],
   "source": [
    "emote_df = pd.DataFrame(emote_list)"
   ]
  },
  {
   "cell_type": "code",
   "execution_count": 148,
   "metadata": {},
   "outputs": [],
   "source": [
    "emote_channel_df = emote_df[['name', 'channel']].copy()"
   ]
  },
  {
   "cell_type": "code",
   "execution_count": 149,
   "metadata": {},
   "outputs": [],
   "source": [
    "emote_df = emote_df.drop('channel', axis=1).drop_duplicates('name').set_index('name')"
   ]
  },
  {
   "cell_type": "code",
   "execution_count": 150,
   "metadata": {},
   "outputs": [
    {
     "data": {
      "text/plain": [
       "1092"
      ]
     },
     "execution_count": 150,
     "metadata": {},
     "output_type": "execute_result"
    }
   ],
   "source": [
    "len(emote_df)"
   ]
  },
  {
   "cell_type": "code",
   "execution_count": 86,
   "metadata": {},
   "outputs": [],
   "source": [
    "chat_logs = listdir('./Chat Logs/')\n",
    "chat_logs = ['./Chat Logs/' + file for file in chat_logs]\n",
    "data = streaming_chat.combine_chat_logs(chat_logs)  "
   ]
  },
  {
   "cell_type": "code",
   "execution_count": 87,
   "metadata": {},
   "outputs": [],
   "source": [
    "df = pd.DataFrame(data)"
   ]
  },
  {
   "cell_type": "code",
   "execution_count": 88,
   "metadata": {},
   "outputs": [],
   "source": [
    "chat_logs = listdir('./Chat Logs/')\n",
    "streamers = set()\n",
    "for log in chat_logs:\n",
    "    streamers.add(log.split('.log')[0])"
   ]
  },
  {
   "cell_type": "code",
   "execution_count": 89,
   "metadata": {},
   "outputs": [],
   "source": [
    "df.loc[df.message.apply(len) == 0, 'message'] = np.NaN\n",
    "\n",
    "df.loc[df['channel'].apply(lambda row: row not in streamers), 'message'] = np.NaN\n",
    "\n",
    "df.dropna(inplace=True)"
   ]
  },
  {
   "cell_type": "code",
   "execution_count": null,
   "metadata": {},
   "outputs": [],
   "source": [
    "def emote_count2(message):\n",
    "    emote_freq = defaultdict(int)\n",
    "    message_data = message.split(' ')\n",
    "    for word in message_data:\n",
    "        is_emote = word in emote_df.index\n",
    "        if is_emote:\n",
    "            emote_freq[word] += 1\n",
    "    return Counter(emote_freq)"
   ]
  },
  {
   "cell_type": "code",
   "execution_count": null,
   "metadata": {},
   "outputs": [],
   "source": [
    "df['msg_emotes'] = df.swifter.apply(lambda row: emote_count2(row.message), axis=1)"
   ]
  },
  {
   "cell_type": "code",
   "execution_count": null,
   "metadata": {},
   "outputs": [],
   "source": [
    "count_df = pd.DataFrame(index = emote_count.keys(), data=emote_count.values())\n",
    "emote_df = pd.merge(left=emote_df, right=count_df, how='left', left_index=True, right_index=True)\n",
    "emote_df.rename(columns={0: \"emote_count\"}, inplace=True)"
   ]
  },
  {
   "cell_type": "code",
   "execution_count": null,
   "metadata": {},
   "outputs": [],
   "source": [
    "emote_freq_channel = df.groupby('channel').msg_emotes.sum()\n",
    "pd.merge(left=emote_df, right=pd.Series(emote_freq_channel['fedmyster']).rename('fedmyster_count'), how='left',left_index=True, right_index=True)\n",
    "\n",
    "for key in emote_freq_channel.keys():\n",
    "    emote_df = pd.merge(left=emote_df, right=pd.Series(emote_freq_channel[key]).rename(f'{key}_count'),\n",
    "                        how='left', left_index=True, right_index=True)"
   ]
  },
  {
   "cell_type": "code",
   "execution_count": 226,
   "metadata": {},
   "outputs": [
    {
     "data": {
      "text/plain": [
       "channel\n",
       "fedmyster     41553\n",
       "lilypichu     41753\n",
       "pokimane      44176\n",
       "scarra        43619\n",
       "sykkuno       42348\n",
       "xchocobars    43475\n",
       "yassuo        41413\n",
       "yvonnie        8381\n",
       "Name: message, dtype: int64"
      ]
     },
     "execution_count": 226,
     "metadata": {},
     "output_type": "execute_result"
    }
   ],
   "source": [
    "total_messages = df.groupby('channel').message.count()\n",
    "total_messages"
   ]
  },
  {
   "cell_type": "code",
   "execution_count": 87,
   "metadata": {},
   "outputs": [
    {
     "data": {
      "text/plain": [
       "array(['spirit56', 'damstream3', 'fk148', 'izagamii', 'faerydaeflo'],\n",
       "      dtype=object)"
      ]
     },
     "execution_count": 87,
     "metadata": {},
     "output_type": "execute_result"
    }
   ],
   "source": [
    "x = df.groupby(['channel', 'username'])['message'].count().sort_values().groupby(level=0).tail(5)\n",
    "x['fedmyster'].index.values"
   ]
  },
  {
   "cell_type": "code",
   "execution_count": 225,
   "metadata": {},
   "outputs": [],
   "source": [
    "df['is_@_streamer'] = df.apply(lambda row: row['message'].lower().startswith(f\"@{row['channel']}\"), axis = 1)"
   ]
  },
  {
   "cell_type": "code",
   "execution_count": 14,
   "metadata": {},
   "outputs": [
    {
     "data": {
      "text/plain": [
       "channel\n",
       "fedmyster      126\n",
       "lilypichu      318\n",
       "pokimane       401\n",
       "scarra        1070\n",
       "sykkuno        496\n",
       "xchocobars     642\n",
       "yassuo        1817\n",
       "yvonnie         73\n",
       "Name: message, dtype: int64"
      ]
     },
     "execution_count": 14,
     "metadata": {},
     "output_type": "execute_result"
    }
   ],
   "source": [
    "df.loc[df['is_@_streamer'] == True].groupby('channel').message.count()"
   ]
  },
  {
   "cell_type": "code",
   "execution_count": 13,
   "metadata": {},
   "outputs": [
    {
     "data": {
      "text/plain": [
       "channel\n",
       "yvonnie       73\n",
       "fedmyster    126\n",
       "Name: message, dtype: int64"
      ]
     },
     "execution_count": 13,
     "metadata": {},
     "output_type": "execute_result"
    }
   ],
   "source": [
    "num_messages[['yvonnie', 'fedmyster']]"
   ]
  },
  {
   "cell_type": "code",
   "execution_count": 7,
   "metadata": {},
   "outputs": [
    {
     "ename": "KeyboardInterrupt",
     "evalue": "",
     "output_type": "error",
     "traceback": [
      "\u001b[1;31m---------------------------------------------------------------------------\u001b[0m",
      "\u001b[1;31mKeyboardInterrupt\u001b[0m                         Traceback (most recent call last)",
      "\u001b[1;32m<ipython-input-7-0c5144c52d60>\u001b[0m in \u001b[0;36m<module>\u001b[1;34m\u001b[0m\n\u001b[1;32m----> 1\u001b[1;33m \u001b[0mdf\u001b[0m\u001b[1;33m[\u001b[0m\u001b[1;34m'question_mark_messages'\u001b[0m\u001b[1;33m]\u001b[0m \u001b[1;33m=\u001b[0m \u001b[0mdf\u001b[0m\u001b[1;33m.\u001b[0m\u001b[0mapply\u001b[0m\u001b[1;33m(\u001b[0m\u001b[1;32mlambda\u001b[0m \u001b[0mrow\u001b[0m\u001b[1;33m:\u001b[0m \u001b[0mrow\u001b[0m\u001b[1;33m[\u001b[0m\u001b[1;34m'message'\u001b[0m\u001b[1;33m]\u001b[0m\u001b[1;33m.\u001b[0m\u001b[0mstartswith\u001b[0m\u001b[1;33m(\u001b[0m\u001b[1;34m'?'\u001b[0m\u001b[1;33m)\u001b[0m\u001b[1;33m,\u001b[0m \u001b[0maxis\u001b[0m \u001b[1;33m=\u001b[0m \u001b[1;36m1\u001b[0m\u001b[1;33m)\u001b[0m\u001b[1;33m\u001b[0m\u001b[1;33m\u001b[0m\u001b[0m\n\u001b[0m",
      "\u001b[1;32m~\\Anaconda3\\lib\\site-packages\\pandas\\core\\frame.py\u001b[0m in \u001b[0;36mapply\u001b[1;34m(self, func, axis, broadcast, raw, reduce, result_type, args, **kwds)\u001b[0m\n\u001b[0;32m   6911\u001b[0m             \u001b[0mkwds\u001b[0m\u001b[1;33m=\u001b[0m\u001b[0mkwds\u001b[0m\u001b[1;33m,\u001b[0m\u001b[1;33m\u001b[0m\u001b[1;33m\u001b[0m\u001b[0m\n\u001b[0;32m   6912\u001b[0m         )\n\u001b[1;32m-> 6913\u001b[1;33m         \u001b[1;32mreturn\u001b[0m \u001b[0mop\u001b[0m\u001b[1;33m.\u001b[0m\u001b[0mget_result\u001b[0m\u001b[1;33m(\u001b[0m\u001b[1;33m)\u001b[0m\u001b[1;33m\u001b[0m\u001b[1;33m\u001b[0m\u001b[0m\n\u001b[0m\u001b[0;32m   6914\u001b[0m \u001b[1;33m\u001b[0m\u001b[0m\n\u001b[0;32m   6915\u001b[0m     \u001b[1;32mdef\u001b[0m \u001b[0mapplymap\u001b[0m\u001b[1;33m(\u001b[0m\u001b[0mself\u001b[0m\u001b[1;33m,\u001b[0m \u001b[0mfunc\u001b[0m\u001b[1;33m)\u001b[0m\u001b[1;33m:\u001b[0m\u001b[1;33m\u001b[0m\u001b[1;33m\u001b[0m\u001b[0m\n",
      "\u001b[1;32m~\\Anaconda3\\lib\\site-packages\\pandas\\core\\apply.py\u001b[0m in \u001b[0;36mget_result\u001b[1;34m(self)\u001b[0m\n\u001b[0;32m    184\u001b[0m             \u001b[1;32mreturn\u001b[0m \u001b[0mself\u001b[0m\u001b[1;33m.\u001b[0m\u001b[0mapply_raw\u001b[0m\u001b[1;33m(\u001b[0m\u001b[1;33m)\u001b[0m\u001b[1;33m\u001b[0m\u001b[1;33m\u001b[0m\u001b[0m\n\u001b[0;32m    185\u001b[0m \u001b[1;33m\u001b[0m\u001b[0m\n\u001b[1;32m--> 186\u001b[1;33m         \u001b[1;32mreturn\u001b[0m \u001b[0mself\u001b[0m\u001b[1;33m.\u001b[0m\u001b[0mapply_standard\u001b[0m\u001b[1;33m(\u001b[0m\u001b[1;33m)\u001b[0m\u001b[1;33m\u001b[0m\u001b[1;33m\u001b[0m\u001b[0m\n\u001b[0m\u001b[0;32m    187\u001b[0m \u001b[1;33m\u001b[0m\u001b[0m\n\u001b[0;32m    188\u001b[0m     \u001b[1;32mdef\u001b[0m \u001b[0mapply_empty_result\u001b[0m\u001b[1;33m(\u001b[0m\u001b[0mself\u001b[0m\u001b[1;33m)\u001b[0m\u001b[1;33m:\u001b[0m\u001b[1;33m\u001b[0m\u001b[1;33m\u001b[0m\u001b[0m\n",
      "\u001b[1;32m~\\Anaconda3\\lib\\site-packages\\pandas\\core\\apply.py\u001b[0m in \u001b[0;36mapply_standard\u001b[1;34m(self)\u001b[0m\n\u001b[0;32m    283\u001b[0m             \u001b[1;32mtry\u001b[0m\u001b[1;33m:\u001b[0m\u001b[1;33m\u001b[0m\u001b[1;33m\u001b[0m\u001b[0m\n\u001b[0;32m    284\u001b[0m                 result = reduction.reduce(\n\u001b[1;32m--> 285\u001b[1;33m                     \u001b[0mvalues\u001b[0m\u001b[1;33m,\u001b[0m \u001b[0mself\u001b[0m\u001b[1;33m.\u001b[0m\u001b[0mf\u001b[0m\u001b[1;33m,\u001b[0m \u001b[0maxis\u001b[0m\u001b[1;33m=\u001b[0m\u001b[0mself\u001b[0m\u001b[1;33m.\u001b[0m\u001b[0maxis\u001b[0m\u001b[1;33m,\u001b[0m \u001b[0mdummy\u001b[0m\u001b[1;33m=\u001b[0m\u001b[0mdummy\u001b[0m\u001b[1;33m,\u001b[0m \u001b[0mlabels\u001b[0m\u001b[1;33m=\u001b[0m\u001b[0mlabels\u001b[0m\u001b[1;33m\u001b[0m\u001b[1;33m\u001b[0m\u001b[0m\n\u001b[0m\u001b[0;32m    286\u001b[0m                 )\n\u001b[0;32m    287\u001b[0m                 \u001b[1;32mreturn\u001b[0m \u001b[0mself\u001b[0m\u001b[1;33m.\u001b[0m\u001b[0mobj\u001b[0m\u001b[1;33m.\u001b[0m\u001b[0m_constructor_sliced\u001b[0m\u001b[1;33m(\u001b[0m\u001b[0mresult\u001b[0m\u001b[1;33m,\u001b[0m \u001b[0mindex\u001b[0m\u001b[1;33m=\u001b[0m\u001b[0mlabels\u001b[0m\u001b[1;33m)\u001b[0m\u001b[1;33m\u001b[0m\u001b[1;33m\u001b[0m\u001b[0m\n",
      "\u001b[1;32mpandas\\_libs\\reduction.pyx\u001b[0m in \u001b[0;36mpandas._libs.reduction.reduce\u001b[1;34m()\u001b[0m\n",
      "\u001b[1;32mpandas\\_libs\\reduction.pyx\u001b[0m in \u001b[0;36mpandas._libs.reduction.Reducer.get_result\u001b[1;34m()\u001b[0m\n",
      "\u001b[1;32mpandas\\_libs\\properties.pyx\u001b[0m in \u001b[0;36mpandas._libs.properties.AxisProperty.__set__\u001b[1;34m()\u001b[0m\n",
      "\u001b[1;32m~\\Anaconda3\\lib\\site-packages\\pandas\\core\\series.py\u001b[0m in \u001b[0;36m_set_axis\u001b[1;34m(self, axis, labels, fastpath)\u001b[0m\n\u001b[0;32m    439\u001b[0m         \u001b[0mobject\u001b[0m\u001b[1;33m.\u001b[0m\u001b[0m__setattr__\u001b[0m\u001b[1;33m(\u001b[0m\u001b[0mself\u001b[0m\u001b[1;33m,\u001b[0m \u001b[1;34m\"_index\"\u001b[0m\u001b[1;33m,\u001b[0m \u001b[0mlabels\u001b[0m\u001b[1;33m)\u001b[0m\u001b[1;33m\u001b[0m\u001b[1;33m\u001b[0m\u001b[0m\n\u001b[0;32m    440\u001b[0m         \u001b[1;32mif\u001b[0m \u001b[1;32mnot\u001b[0m \u001b[0mfastpath\u001b[0m\u001b[1;33m:\u001b[0m\u001b[1;33m\u001b[0m\u001b[1;33m\u001b[0m\u001b[0m\n\u001b[1;32m--> 441\u001b[1;33m             \u001b[0mself\u001b[0m\u001b[1;33m.\u001b[0m\u001b[0m_data\u001b[0m\u001b[1;33m.\u001b[0m\u001b[0mset_axis\u001b[0m\u001b[1;33m(\u001b[0m\u001b[0maxis\u001b[0m\u001b[1;33m,\u001b[0m \u001b[0mlabels\u001b[0m\u001b[1;33m)\u001b[0m\u001b[1;33m\u001b[0m\u001b[1;33m\u001b[0m\u001b[0m\n\u001b[0m\u001b[0;32m    442\u001b[0m \u001b[1;33m\u001b[0m\u001b[0m\n\u001b[0;32m    443\u001b[0m     \u001b[1;32mdef\u001b[0m \u001b[0m_set_subtyp\u001b[0m\u001b[1;33m(\u001b[0m\u001b[0mself\u001b[0m\u001b[1;33m,\u001b[0m \u001b[0mis_all_dates\u001b[0m\u001b[1;33m)\u001b[0m\u001b[1;33m:\u001b[0m\u001b[1;33m\u001b[0m\u001b[1;33m\u001b[0m\u001b[0m\n",
      "\u001b[1;31mKeyboardInterrupt\u001b[0m: "
     ]
    }
   ],
   "source": [
    "df['question_mark_messages'] = df.apply(lambda row: row['message'].startswith('?'), axis = 1)"
   ]
  },
  {
   "cell_type": "code",
   "execution_count": 229,
   "metadata": {},
   "outputs": [
    {
     "data": {
      "text/plain": [
       "channel\n",
       "yvonnie        12\n",
       "lilypichu      65\n",
       "xchocobars    193\n",
       "scarra        209\n",
       "sykkuno       258\n",
       "yassuo        364\n",
       "pokimane      542\n",
       "fedmyster     584\n",
       "Name: message, dtype: int64"
      ]
     },
     "execution_count": 229,
     "metadata": {},
     "output_type": "execute_result"
    }
   ],
   "source": [
    "df.loc[df['question_mark_messages'] == True].groupby('channel').message.count().sort_values()"
   ]
  },
  {
   "cell_type": "code",
   "execution_count": 230,
   "metadata": {},
   "outputs": [],
   "source": [
    "df['command_message'] = df.apply(lambda row: row['message'].startswith('!'), axis = 1)"
   ]
  },
  {
   "cell_type": "code",
   "execution_count": 27,
   "metadata": {},
   "outputs": [
    {
     "data": {
      "text/plain": [
       "channel\n",
       "fedmyster       98\n",
       "xchocobars     103\n",
       "yvonnie        182\n",
       "sykkuno        415\n",
       "pokimane       723\n",
       "lilypichu      918\n",
       "scarra         950\n",
       "yassuo        1530\n",
       "Name: message, dtype: int64"
      ]
     },
     "execution_count": 27,
     "metadata": {},
     "output_type": "execute_result"
    }
   ],
   "source": [
    "df.loc[df['command_message'] == True].groupby('channel').message.count().sort_values()"
   ]
  },
  {
   "cell_type": "code",
   "execution_count": 28,
   "metadata": {},
   "outputs": [
    {
     "data": {
      "text/plain": [
       "channel     message   \n",
       "fedmyster   !discord        5\n",
       "            !subs           5\n",
       "            !uptime        47\n",
       "lilypichu   !donate       113\n",
       "            !team          61\n",
       "            !uptime       260\n",
       "pokimane    !followage     90\n",
       "            !shaders      164\n",
       "            !uptime        81\n",
       "scarra      !rank          84\n",
       "            !squad        142\n",
       "            !uptime       101\n",
       "sykkuno     !duo          109\n",
       "            !shaders       31\n",
       "            !uptime       149\n",
       "xchocobars  !song          11\n",
       "            !tourney       12\n",
       "            !uptime        19\n",
       "yassuo      !charity      240\n",
       "            !rank         204\n",
       "            !uptime       280\n",
       "yvonnie     !charity       84\n",
       "            !uptime        34\n",
       "            !watchtime      9\n",
       "Name: username, dtype: int64"
      ]
     },
     "execution_count": 28,
     "metadata": {},
     "output_type": "execute_result"
    }
   ],
   "source": [
    "command_count_per_channel = df.loc[df['command_message'] == True].groupby(['channel','message'])['username'].count()\n",
    "top_commands_per_channel = command_count_per_channel.sort_values().groupby(level=0).tail(3).sort_index()\n",
    "top_commands_per_channel"
   ]
  },
  {
   "cell_type": "code",
   "execution_count": 231,
   "metadata": {},
   "outputs": [
    {
     "name": "stderr",
     "output_type": "stream",
     "text": [
      "C:\\Users\\crsar\\Anaconda3\\lib\\site-packages\\tqdm\\std.py:648: FutureWarning: The Panel class is removed from pandas. Accessing it from the top-level namespace will also be removed in the next version\n",
      "  from pandas import Panel\n"
     ]
    },
    {
     "data": {
      "application/vnd.jupyter.widget-view+json": {
       "model_id": "52fd7833b1bb4960b0d400e2faf5ac99",
       "version_major": 2,
       "version_minor": 0
      },
      "text/plain": [
       "HBox(children=(IntProgress(value=0, description='Pandas Apply', max=306718, style=ProgressStyle(description_wi…"
      ]
     },
     "metadata": {},
     "output_type": "display_data"
    },
    {
     "name": "stdout",
     "output_type": "stream",
     "text": [
      "\n"
     ]
    }
   ],
   "source": [
    "df['message_length'] = df.message.swifter.apply(lambda msg: len(msg.split(' ')))"
   ]
  },
  {
   "cell_type": "code",
   "execution_count": 232,
   "metadata": {},
   "outputs": [
    {
     "data": {
      "text/plain": [
       "channel\n",
       "fedmyster     1\n",
       "lilypichu     2\n",
       "pokimane      2\n",
       "scarra        3\n",
       "sykkuno       2\n",
       "xchocobars    3\n",
       "yassuo        2\n",
       "yvonnie       3\n",
       "Name: message_length, dtype: int64"
      ]
     },
     "execution_count": 232,
     "metadata": {},
     "output_type": "execute_result"
    }
   ],
   "source": [
    "df.groupby('channel')['message_length'].median()"
   ]
  },
  {
   "cell_type": "code",
   "execution_count": 224,
   "metadata": {},
   "outputs": [
    {
     "data": {
      "text/plain": [
       "name\n",
       "Pog      1501.0\n",
       "LUL      1374.0\n",
       "LULW      813.0\n",
       "YEP       568.0\n",
       "PepoG     371.0\n",
       "Name: xchocobars_count, dtype: float64"
      ]
     },
     "execution_count": 224,
     "metadata": {},
     "output_type": "execute_result"
    }
   ],
   "source": [
    "emote_df['xchocobars_count'].sort_values(ascending=False).head(5)"
   ]
  },
  {
   "cell_type": "code",
   "execution_count": 168,
   "metadata": {},
   "outputs": [
    {
     "ename": "NameError",
     "evalue": "name 'emote_df' is not defined",
     "output_type": "error",
     "traceback": [
      "\u001b[1;31m---------------------------------------------------------------------------\u001b[0m",
      "\u001b[1;31mNameError\u001b[0m                                 Traceback (most recent call last)",
      "\u001b[1;32m<ipython-input-168-dc3bf0d4cd4e>\u001b[0m in \u001b[0;36m<module>\u001b[1;34m\u001b[0m\n\u001b[1;32m----> 1\u001b[1;33m \u001b[0mpd\u001b[0m\u001b[1;33m.\u001b[0m\u001b[0mmerge\u001b[0m\u001b[1;33m(\u001b[0m\u001b[0memote_df\u001b[0m\u001b[1;33m.\u001b[0m\u001b[0mloc\u001b[0m\u001b[1;33m[\u001b[0m\u001b[0memote_df\u001b[0m\u001b[1;33m.\u001b[0m\u001b[0memote_type\u001b[0m \u001b[1;33m==\u001b[0m \u001b[1;34m'Tier 3'\u001b[0m\u001b[1;33m]\u001b[0m\u001b[1;33m,\u001b[0m \u001b[0memote_channel_df\u001b[0m\u001b[1;33m,\u001b[0m \u001b[0mleft_index\u001b[0m\u001b[1;33m=\u001b[0m\u001b[1;32mTrue\u001b[0m\u001b[1;33m,\u001b[0m \u001b[0mright_on\u001b[0m \u001b[1;33m=\u001b[0m \u001b[1;34m'name'\u001b[0m\u001b[1;33m)\u001b[0m\u001b[1;33m\u001b[0m\u001b[1;33m\u001b[0m\u001b[0m\n\u001b[0m",
      "\u001b[1;31mNameError\u001b[0m: name 'emote_df' is not defined"
     ]
    }
   ],
   "source": [
    "t1 = pd.merge(emote_df.loc[emote_df.emote_type == 'Tier 1'], emote_channel_df, left_index=True, right_on = 'name')"
   ]
  },
  {
   "cell_type": "code",
   "execution_count": 201,
   "metadata": {},
   "outputs": [
    {
     "data": {
      "text/html": [
       "<div>\n",
       "<style scoped>\n",
       "    .dataframe tbody tr th:only-of-type {\n",
       "        vertical-align: middle;\n",
       "    }\n",
       "\n",
       "    .dataframe tbody tr th {\n",
       "        vertical-align: top;\n",
       "    }\n",
       "\n",
       "    .dataframe thead th {\n",
       "        text-align: right;\n",
       "    }\n",
       "</style>\n",
       "<table border=\"1\" class=\"dataframe\">\n",
       "  <thead>\n",
       "    <tr style=\"text-align: right;\">\n",
       "      <th></th>\n",
       "      <th>fedmyster_count</th>\n",
       "      <th>lilypichu_count</th>\n",
       "      <th>pokimane_count</th>\n",
       "      <th>scarra_count</th>\n",
       "      <th>sykkuno_count</th>\n",
       "      <th>xchocobars_count</th>\n",
       "      <th>yassuo_count</th>\n",
       "      <th>yvonnie_count</th>\n",
       "    </tr>\n",
       "    <tr>\n",
       "      <th>channel</th>\n",
       "      <th></th>\n",
       "      <th></th>\n",
       "      <th></th>\n",
       "      <th></th>\n",
       "      <th></th>\n",
       "      <th></th>\n",
       "      <th></th>\n",
       "      <th></th>\n",
       "    </tr>\n",
       "  </thead>\n",
       "  <tbody>\n",
       "    <tr>\n",
       "      <td>fedmyster</td>\n",
       "      <td>37379.0</td>\n",
       "      <td>593.0</td>\n",
       "      <td>277.0</td>\n",
       "      <td>225.0</td>\n",
       "      <td>442.0</td>\n",
       "      <td>15.0</td>\n",
       "      <td>2.0</td>\n",
       "      <td>43.0</td>\n",
       "    </tr>\n",
       "    <tr>\n",
       "      <td>lilypichu</td>\n",
       "      <td>518.0</td>\n",
       "      <td>7568.0</td>\n",
       "      <td>126.0</td>\n",
       "      <td>166.0</td>\n",
       "      <td>140.0</td>\n",
       "      <td>51.0</td>\n",
       "      <td>0.0</td>\n",
       "      <td>11.0</td>\n",
       "    </tr>\n",
       "    <tr>\n",
       "      <td>pokimane</td>\n",
       "      <td>83.0</td>\n",
       "      <td>119.0</td>\n",
       "      <td>3235.0</td>\n",
       "      <td>20.0</td>\n",
       "      <td>7.0</td>\n",
       "      <td>12.0</td>\n",
       "      <td>4.0</td>\n",
       "      <td>2.0</td>\n",
       "    </tr>\n",
       "    <tr>\n",
       "      <td>scarra</td>\n",
       "      <td>17.0</td>\n",
       "      <td>67.0</td>\n",
       "      <td>20.0</td>\n",
       "      <td>1351.0</td>\n",
       "      <td>6.0</td>\n",
       "      <td>0.0</td>\n",
       "      <td>0.0</td>\n",
       "      <td>0.0</td>\n",
       "    </tr>\n",
       "    <tr>\n",
       "      <td>sykkuno</td>\n",
       "      <td>374.0</td>\n",
       "      <td>401.0</td>\n",
       "      <td>50.0</td>\n",
       "      <td>55.0</td>\n",
       "      <td>10611.0</td>\n",
       "      <td>35.0</td>\n",
       "      <td>2.0</td>\n",
       "      <td>62.0</td>\n",
       "    </tr>\n",
       "    <tr>\n",
       "      <td>xchocobars</td>\n",
       "      <td>0.0</td>\n",
       "      <td>37.0</td>\n",
       "      <td>13.0</td>\n",
       "      <td>4.0</td>\n",
       "      <td>0.0</td>\n",
       "      <td>1377.0</td>\n",
       "      <td>1.0</td>\n",
       "      <td>2.0</td>\n",
       "    </tr>\n",
       "    <tr>\n",
       "      <td>yassuo</td>\n",
       "      <td>7.0</td>\n",
       "      <td>1.0</td>\n",
       "      <td>28.0</td>\n",
       "      <td>6.0</td>\n",
       "      <td>5.0</td>\n",
       "      <td>0.0</td>\n",
       "      <td>2742.0</td>\n",
       "      <td>0.0</td>\n",
       "    </tr>\n",
       "    <tr>\n",
       "      <td>yvonnie</td>\n",
       "      <td>55.0</td>\n",
       "      <td>66.0</td>\n",
       "      <td>15.0</td>\n",
       "      <td>23.0</td>\n",
       "      <td>25.0</td>\n",
       "      <td>8.0</td>\n",
       "      <td>0.0</td>\n",
       "      <td>1652.0</td>\n",
       "    </tr>\n",
       "  </tbody>\n",
       "</table>\n",
       "</div>"
      ],
      "text/plain": [
       "            fedmyster_count  lilypichu_count  pokimane_count  scarra_count  \\\n",
       "channel                                                                      \n",
       "fedmyster           37379.0            593.0           277.0         225.0   \n",
       "lilypichu             518.0           7568.0           126.0         166.0   \n",
       "pokimane               83.0            119.0          3235.0          20.0   \n",
       "scarra                 17.0             67.0            20.0        1351.0   \n",
       "sykkuno               374.0            401.0            50.0          55.0   \n",
       "xchocobars              0.0             37.0            13.0           4.0   \n",
       "yassuo                  7.0              1.0            28.0           6.0   \n",
       "yvonnie                55.0             66.0            15.0          23.0   \n",
       "\n",
       "            sykkuno_count  xchocobars_count  yassuo_count  yvonnie_count  \n",
       "channel                                                                   \n",
       "fedmyster           442.0              15.0           2.0           43.0  \n",
       "lilypichu           140.0              51.0           0.0           11.0  \n",
       "pokimane              7.0              12.0           4.0            2.0  \n",
       "scarra                6.0               0.0           0.0            0.0  \n",
       "sykkuno           10611.0              35.0           2.0           62.0  \n",
       "xchocobars            0.0            1377.0           1.0            2.0  \n",
       "yassuo                5.0               0.0        2742.0            0.0  \n",
       "yvonnie              25.0               8.0           0.0         1652.0  "
      ]
     },
     "execution_count": 201,
     "metadata": {},
     "output_type": "execute_result"
    }
   ],
   "source": [
    "t1.groupby('channel').sum().drop('emote_count', axis = 1)"
   ]
  },
  {
   "cell_type": "code",
   "execution_count": 233,
   "metadata": {},
   "outputs": [
    {
     "data": {
      "application/vnd.jupyter.widget-view+json": {
       "model_id": "4e17000bf7564d0bb9d8934d3875cde8",
       "version_major": 2,
       "version_minor": 0
      },
      "text/plain": [
       "HBox(children=(IntProgress(value=0, description='Pandas Apply', max=306718, style=ProgressStyle(description_wi…"
      ]
     },
     "metadata": {},
     "output_type": "display_data"
    },
    {
     "name": "stdout",
     "output_type": "stream",
     "text": [
      "\n"
     ]
    }
   ],
   "source": [
    "df['num_emotes'] = df.msg_emotes.swifter.apply(lambda x: sum(x.values()))"
   ]
  },
  {
   "cell_type": "code",
   "execution_count": 234,
   "metadata": {},
   "outputs": [],
   "source": [
    "df['emote_ratio'] = df['num_emotes'] / df['message_length']"
   ]
  },
  {
   "cell_type": "code",
   "execution_count": 235,
   "metadata": {},
   "outputs": [
    {
     "data": {
      "text/html": [
       "<div>\n",
       "<style scoped>\n",
       "    .dataframe tbody tr th:only-of-type {\n",
       "        vertical-align: middle;\n",
       "    }\n",
       "\n",
       "    .dataframe tbody tr th {\n",
       "        vertical-align: top;\n",
       "    }\n",
       "\n",
       "    .dataframe thead th {\n",
       "        text-align: right;\n",
       "    }\n",
       "</style>\n",
       "<table border=\"1\" class=\"dataframe\">\n",
       "  <thead>\n",
       "    <tr style=\"text-align: right;\">\n",
       "      <th></th>\n",
       "      <th>time</th>\n",
       "      <th>channel</th>\n",
       "      <th>username</th>\n",
       "      <th>message</th>\n",
       "      <th>msg_emotes</th>\n",
       "      <th>is_@_streamer</th>\n",
       "      <th>question_mark_messages</th>\n",
       "      <th>command_message</th>\n",
       "      <th>message_length</th>\n",
       "      <th>num_emotes</th>\n",
       "      <th>emote_ratio</th>\n",
       "    </tr>\n",
       "  </thead>\n",
       "  <tbody>\n",
       "    <tr>\n",
       "      <td>0</td>\n",
       "      <td>2020-06-04 22:34:00</td>\n",
       "      <td>fedmyster</td>\n",
       "      <td>uplandace12</td>\n",
       "      <td>🥵🥵</td>\n",
       "      <td>{}</td>\n",
       "      <td>False</td>\n",
       "      <td>False</td>\n",
       "      <td>False</td>\n",
       "      <td>1</td>\n",
       "      <td>0</td>\n",
       "      <td>0.000000</td>\n",
       "    </tr>\n",
       "    <tr>\n",
       "      <td>1</td>\n",
       "      <td>2020-06-04 22:34:00</td>\n",
       "      <td>fedmyster</td>\n",
       "      <td>impmeta</td>\n",
       "      <td>fed7 fed7 fed7 fed7 fed7 fed7 fed7 fed7 fed7 f...</td>\n",
       "      <td>{'fed7': 22}</td>\n",
       "      <td>False</td>\n",
       "      <td>False</td>\n",
       "      <td>False</td>\n",
       "      <td>22</td>\n",
       "      <td>22</td>\n",
       "      <td>1.000000</td>\n",
       "    </tr>\n",
       "    <tr>\n",
       "      <td>2</td>\n",
       "      <td>2020-06-04 22:34:00</td>\n",
       "      <td>fedmyster</td>\n",
       "      <td>tiger662</td>\n",
       "      <td>fedL fedL fedL fedL fedL fedL fedL</td>\n",
       "      <td>{'fedL': 7}</td>\n",
       "      <td>False</td>\n",
       "      <td>False</td>\n",
       "      <td>False</td>\n",
       "      <td>7</td>\n",
       "      <td>7</td>\n",
       "      <td>1.000000</td>\n",
       "    </tr>\n",
       "    <tr>\n",
       "      <td>3</td>\n",
       "      <td>2020-06-04 22:34:00</td>\n",
       "      <td>fedmyster</td>\n",
       "      <td>thatoneasianboye</td>\n",
       "      <td>THE MAN THE MYTH THE LEGENDS IS BACKKK</td>\n",
       "      <td>{}</td>\n",
       "      <td>False</td>\n",
       "      <td>False</td>\n",
       "      <td>False</td>\n",
       "      <td>8</td>\n",
       "      <td>0</td>\n",
       "      <td>0.000000</td>\n",
       "    </tr>\n",
       "    <tr>\n",
       "      <td>4</td>\n",
       "      <td>2020-06-04 22:34:01</td>\n",
       "      <td>fedmyster</td>\n",
       "      <td>liberianrefugee</td>\n",
       "      <td>ppp</td>\n",
       "      <td>{}</td>\n",
       "      <td>False</td>\n",
       "      <td>False</td>\n",
       "      <td>False</td>\n",
       "      <td>1</td>\n",
       "      <td>0</td>\n",
       "      <td>0.000000</td>\n",
       "    </tr>\n",
       "    <tr>\n",
       "      <td>...</td>\n",
       "      <td>...</td>\n",
       "      <td>...</td>\n",
       "      <td>...</td>\n",
       "      <td>...</td>\n",
       "      <td>...</td>\n",
       "      <td>...</td>\n",
       "      <td>...</td>\n",
       "      <td>...</td>\n",
       "      <td>...</td>\n",
       "      <td>...</td>\n",
       "      <td>...</td>\n",
       "    </tr>\n",
       "    <tr>\n",
       "      <td>309104</td>\n",
       "      <td>2020-06-05 00:50:43</td>\n",
       "      <td>yvonnie</td>\n",
       "      <td>tv_timeout</td>\n",
       "      <td>i don't think it's your call at that point</td>\n",
       "      <td>{}</td>\n",
       "      <td>False</td>\n",
       "      <td>False</td>\n",
       "      <td>False</td>\n",
       "      <td>9</td>\n",
       "      <td>0</td>\n",
       "      <td>0.000000</td>\n",
       "    </tr>\n",
       "    <tr>\n",
       "      <td>309105</td>\n",
       "      <td>2020-06-05 00:50:43</td>\n",
       "      <td>yvonnie</td>\n",
       "      <td>luigi99212</td>\n",
       "      <td>FEEL THE SAME THEY FELT KEKW</td>\n",
       "      <td>{'KEKW': 1}</td>\n",
       "      <td>False</td>\n",
       "      <td>False</td>\n",
       "      <td>False</td>\n",
       "      <td>6</td>\n",
       "      <td>1</td>\n",
       "      <td>0.166667</td>\n",
       "    </tr>\n",
       "    <tr>\n",
       "      <td>309106</td>\n",
       "      <td>2020-06-05 00:50:43</td>\n",
       "      <td>yvonnie</td>\n",
       "      <td>snowtheo</td>\n",
       "      <td>no she worked hard on it</td>\n",
       "      <td>{}</td>\n",
       "      <td>False</td>\n",
       "      <td>False</td>\n",
       "      <td>False</td>\n",
       "      <td>6</td>\n",
       "      <td>0</td>\n",
       "      <td>0.000000</td>\n",
       "    </tr>\n",
       "    <tr>\n",
       "      <td>309107</td>\n",
       "      <td>2020-06-05 00:50:45</td>\n",
       "      <td>yvonnie</td>\n",
       "      <td>mcboi9</td>\n",
       "      <td>cmon yvonne content!</td>\n",
       "      <td>{}</td>\n",
       "      <td>False</td>\n",
       "      <td>False</td>\n",
       "      <td>False</td>\n",
       "      <td>3</td>\n",
       "      <td>0</td>\n",
       "      <td>0.000000</td>\n",
       "    </tr>\n",
       "    <tr>\n",
       "      <td>309108</td>\n",
       "      <td>2020-06-05 00:50:45</td>\n",
       "      <td>yvonnie</td>\n",
       "      <td>kaiseroverlord</td>\n",
       "      <td>Everyone donate a dollar quick!</td>\n",
       "      <td>{}</td>\n",
       "      <td>False</td>\n",
       "      <td>False</td>\n",
       "      <td>False</td>\n",
       "      <td>5</td>\n",
       "      <td>0</td>\n",
       "      <td>0.000000</td>\n",
       "    </tr>\n",
       "  </tbody>\n",
       "</table>\n",
       "<p>306718 rows × 11 columns</p>\n",
       "</div>"
      ],
      "text/plain": [
       "                      time    channel          username  \\\n",
       "0      2020-06-04 22:34:00  fedmyster       uplandace12   \n",
       "1      2020-06-04 22:34:00  fedmyster           impmeta   \n",
       "2      2020-06-04 22:34:00  fedmyster          tiger662   \n",
       "3      2020-06-04 22:34:00  fedmyster  thatoneasianboye   \n",
       "4      2020-06-04 22:34:01  fedmyster   liberianrefugee   \n",
       "...                    ...        ...               ...   \n",
       "309104 2020-06-05 00:50:43    yvonnie        tv_timeout   \n",
       "309105 2020-06-05 00:50:43    yvonnie        luigi99212   \n",
       "309106 2020-06-05 00:50:43    yvonnie          snowtheo   \n",
       "309107 2020-06-05 00:50:45    yvonnie            mcboi9   \n",
       "309108 2020-06-05 00:50:45    yvonnie    kaiseroverlord   \n",
       "\n",
       "                                                  message    msg_emotes  \\\n",
       "0                                                      🥵🥵            {}   \n",
       "1       fed7 fed7 fed7 fed7 fed7 fed7 fed7 fed7 fed7 f...  {'fed7': 22}   \n",
       "2                      fedL fedL fedL fedL fedL fedL fedL   {'fedL': 7}   \n",
       "3                  THE MAN THE MYTH THE LEGENDS IS BACKKK            {}   \n",
       "4                                                     ppp            {}   \n",
       "...                                                   ...           ...   \n",
       "309104         i don't think it's your call at that point            {}   \n",
       "309105                       FEEL THE SAME THEY FELT KEKW   {'KEKW': 1}   \n",
       "309106                           no she worked hard on it            {}   \n",
       "309107                               cmon yvonne content!            {}   \n",
       "309108                    Everyone donate a dollar quick!            {}   \n",
       "\n",
       "        is_@_streamer  question_mark_messages  command_message  \\\n",
       "0               False                   False            False   \n",
       "1               False                   False            False   \n",
       "2               False                   False            False   \n",
       "3               False                   False            False   \n",
       "4               False                   False            False   \n",
       "...               ...                     ...              ...   \n",
       "309104          False                   False            False   \n",
       "309105          False                   False            False   \n",
       "309106          False                   False            False   \n",
       "309107          False                   False            False   \n",
       "309108          False                   False            False   \n",
       "\n",
       "        message_length  num_emotes  emote_ratio  \n",
       "0                    1           0     0.000000  \n",
       "1                   22          22     1.000000  \n",
       "2                    7           7     1.000000  \n",
       "3                    8           0     0.000000  \n",
       "4                    1           0     0.000000  \n",
       "...                ...         ...          ...  \n",
       "309104               9           0     0.000000  \n",
       "309105               6           1     0.166667  \n",
       "309106               6           0     0.000000  \n",
       "309107               3           0     0.000000  \n",
       "309108               5           0     0.000000  \n",
       "\n",
       "[306718 rows x 11 columns]"
      ]
     },
     "execution_count": 235,
     "metadata": {},
     "output_type": "execute_result"
    }
   ],
   "source": [
    "df"
   ]
  },
  {
   "cell_type": "code",
   "execution_count": 20,
   "metadata": {
    "scrolled": true
   },
   "outputs": [
    {
     "data": {
      "text/plain": [
       "channel\n",
       "fedmyster    0.434949\n",
       "lilypichu    0.225278\n",
       "Name: emote_ratio, dtype: float64"
      ]
     },
     "execution_count": 20,
     "metadata": {},
     "output_type": "execute_result"
    }
   ],
   "source": [
    "df.groupby('channel')['emote_ratio'].mean()[['fedmyster', 'lilypichu']]"
   ]
  },
  {
   "cell_type": "code",
   "execution_count": 236,
   "metadata": {},
   "outputs": [],
   "source": [
    "def filter_words(msg, msg_emotes):\n",
    "    ret = []\n",
    "    for word in msg.split(' '):\n",
    "        if word not in msg_emotes:\n",
    "            ret.append(word)\n",
    "    return ' '.join(ret)"
   ]
  },
  {
   "cell_type": "code",
   "execution_count": 237,
   "metadata": {},
   "outputs": [
    {
     "data": {
      "application/vnd.jupyter.widget-view+json": {
       "model_id": "e41d9df93e554bd1924af78176504c29",
       "version_major": 2,
       "version_minor": 0
      },
      "text/plain": [
       "HBox(children=(IntProgress(value=0, description='Pandas Apply', max=306718, style=ProgressStyle(description_wi…"
      ]
     },
     "metadata": {},
     "output_type": "display_data"
    },
    {
     "name": "stdout",
     "output_type": "stream",
     "text": [
      "\n"
     ]
    }
   ],
   "source": [
    "df['message_no_emotes'] = df.swifter.apply(lambda row: filter_words(row['message'], row['msg_emotes']), axis=1)"
   ]
  },
  {
   "cell_type": "code",
   "execution_count": 24,
   "metadata": {
    "scrolled": false
   },
   "outputs": [
    {
     "data": {
      "text/plain": [
       "name\n",
       "KEKW          14656.0\n",
       "fedKING       10902.0\n",
       "Pog            9755.0\n",
       "fed7           9343.0\n",
       "LUL            7723.0\n",
       "fedL           6021.0\n",
       "<3             4904.0\n",
       "Clap           4189.0\n",
       "YEP            3951.0\n",
       "LULW           3860.0\n",
       "PogU           3547.0\n",
       "sykHeart       3530.0\n",
       "PogChamp       2884.0\n",
       "Kappa          2482.0\n",
       "D:             2310.0\n",
       "PepeLaugh      2163.0\n",
       "OMEGALUL       2042.0\n",
       "EZ             1915.0\n",
       "monkaW         1828.0\n",
       "WeirdChamp     1797.0\n",
       "Name: emote_count, dtype: float64"
      ]
     },
     "execution_count": 24,
     "metadata": {},
     "output_type": "execute_result"
    }
   ],
   "source": [
    "emote.emote_count.nlargest(20)"
   ]
  },
  {
   "cell_type": "code",
   "execution_count": 245,
   "metadata": {},
   "outputs": [],
   "source": [
    "emote_channel_df.to_pickle('emote_channel.pkl')"
   ]
  },
  {
   "cell_type": "code",
   "execution_count": 247,
   "metadata": {},
   "outputs": [],
   "source": [
    "emote_df.to_pickle('emote.pkl')"
   ]
  },
  {
   "cell_type": "code",
   "execution_count": 3,
   "metadata": {},
   "outputs": [],
   "source": [
    "df = pd.read_msgpack('./Data/chat_data.msg')"
   ]
  },
  {
   "cell_type": "code",
   "execution_count": 4,
   "metadata": {},
   "outputs": [],
   "source": [
    "df.to_pickle('chat_data.pkl')"
   ]
  },
  {
   "cell_type": "code",
   "execution_count": 4,
   "metadata": {},
   "outputs": [],
   "source": [
    "df = pd.read_pickle('./Data/chat_data.pkl')"
   ]
  },
  {
   "cell_type": "code",
   "execution_count": 5,
   "metadata": {},
   "outputs": [],
   "source": [
    "emote = pd.read_pickle('./Data/emote.pkl')"
   ]
  },
  {
   "cell_type": "code",
   "execution_count": 6,
   "metadata": {},
   "outputs": [],
   "source": [
    "emote_channel_df = pd.read_pickle('./Data/emote_channel.pkl')"
   ]
  },
  {
   "cell_type": "code",
   "execution_count": 496,
   "metadata": {},
   "outputs": [
    {
     "data": {
      "text/html": [
       "<div>\n",
       "<style scoped>\n",
       "    .dataframe tbody tr th:only-of-type {\n",
       "        vertical-align: middle;\n",
       "    }\n",
       "\n",
       "    .dataframe tbody tr th {\n",
       "        vertical-align: top;\n",
       "    }\n",
       "\n",
       "    .dataframe thead th {\n",
       "        text-align: right;\n",
       "    }\n",
       "</style>\n",
       "<table border=\"1\" class=\"dataframe\">\n",
       "  <thead>\n",
       "    <tr style=\"text-align: right;\">\n",
       "      <th></th>\n",
       "      <th>name</th>\n",
       "      <th>channel</th>\n",
       "    </tr>\n",
       "  </thead>\n",
       "  <tbody>\n",
       "    <tr>\n",
       "      <td>0</td>\n",
       "      <td>gachiGASM</td>\n",
       "      <td>fedmyster</td>\n",
       "    </tr>\n",
       "    <tr>\n",
       "      <td>1</td>\n",
       "      <td>HYPERS</td>\n",
       "      <td>fedmyster</td>\n",
       "    </tr>\n",
       "    <tr>\n",
       "      <td>2</td>\n",
       "      <td>peepoRiot</td>\n",
       "      <td>fedmyster</td>\n",
       "    </tr>\n",
       "    <tr>\n",
       "      <td>3</td>\n",
       "      <td>coffinPls</td>\n",
       "      <td>fedmyster</td>\n",
       "    </tr>\n",
       "    <tr>\n",
       "      <td>4</td>\n",
       "      <td>blobDance</td>\n",
       "      <td>fedmyster</td>\n",
       "    </tr>\n",
       "    <tr>\n",
       "      <td>...</td>\n",
       "      <td>...</td>\n",
       "      <td>...</td>\n",
       "    </tr>\n",
       "    <tr>\n",
       "      <td>1474</td>\n",
       "      <td>yvonWeeb</td>\n",
       "      <td>yvonnie</td>\n",
       "    </tr>\n",
       "    <tr>\n",
       "      <td>1475</td>\n",
       "      <td>yvonQ</td>\n",
       "      <td>yvonnie</td>\n",
       "    </tr>\n",
       "    <tr>\n",
       "      <td>1476</td>\n",
       "      <td>yvonCry</td>\n",
       "      <td>yvonnie</td>\n",
       "    </tr>\n",
       "    <tr>\n",
       "      <td>1477</td>\n",
       "      <td>yvonSadd</td>\n",
       "      <td>yvonnie</td>\n",
       "    </tr>\n",
       "    <tr>\n",
       "      <td>1478</td>\n",
       "      <td>yvon3</td>\n",
       "      <td>yvonnie</td>\n",
       "    </tr>\n",
       "  </tbody>\n",
       "</table>\n",
       "<p>1479 rows × 2 columns</p>\n",
       "</div>"
      ],
      "text/plain": [
       "           name    channel\n",
       "0     gachiGASM  fedmyster\n",
       "1        HYPERS  fedmyster\n",
       "2     peepoRiot  fedmyster\n",
       "3     coffinPls  fedmyster\n",
       "4     blobDance  fedmyster\n",
       "...         ...        ...\n",
       "1474   yvonWeeb    yvonnie\n",
       "1475      yvonQ    yvonnie\n",
       "1476    yvonCry    yvonnie\n",
       "1477   yvonSadd    yvonnie\n",
       "1478      yvon3    yvonnie\n",
       "\n",
       "[1479 rows x 2 columns]"
      ]
     },
     "execution_count": 496,
     "metadata": {},
     "output_type": "execute_result"
    }
   ],
   "source": [
    "emote_channel_df"
   ]
  },
  {
   "cell_type": "code",
   "execution_count": 130,
   "metadata": {},
   "outputs": [],
   "source": [
    "emote['modified_emote_type'] = emote['emote_type']"
   ]
  },
  {
   "cell_type": "code",
   "execution_count": 131,
   "metadata": {},
   "outputs": [],
   "source": [
    "emote.loc[emote['modified_emote_type'].apply(lambda x : x.startswith(\"FrankerFaceZ\")), 'modified_emote_type'] = 'FrankerFaceZ'"
   ]
  },
  {
   "cell_type": "code",
   "execution_count": 132,
   "metadata": {},
   "outputs": [],
   "source": [
    "emote.loc[emote['modified_emote_type'].apply(lambda x : x.startswith(\"BetterTTV\")), 'modified_emote_type'] = 'BetterTTV'"
   ]
  },
  {
   "cell_type": "code",
   "execution_count": 499,
   "metadata": {},
   "outputs": [],
   "source": [
    "grumps = pd.merge(emote, emote_channel_df, left_index=True, right_on='name').groupby(['channel', 'modified_emote_type']).sum()"
   ]
  },
  {
   "cell_type": "code",
   "execution_count": 504,
   "metadata": {
    "scrolled": true
   },
   "outputs": [
    {
     "data": {
      "text/plain": [
       "70581.0"
      ]
     },
     "execution_count": 504,
     "metadata": {},
     "output_type": "execute_result"
    }
   ],
   "source": [
    "emote.fedmyster_count.sum()"
   ]
  },
  {
   "cell_type": "code",
   "execution_count": 448,
   "metadata": {},
   "outputs": [],
   "source": [
    "def combine_series(v1, v2):\n",
    "    l = not np.isnan(v1)\n",
    "    r = not np.isnan(v2)\n",
    "    \n",
    "    if l and r:\n",
    "        return v1 + v2\n",
    "    elif l:\n",
    "        return v1\n",
    "    else:\n",
    "        return v2"
   ]
  },
  {
   "cell_type": "code",
   "execution_count": 489,
   "metadata": {},
   "outputs": [
    {
     "data": {
      "text/plain": [
       "modified_emote_type\n",
       "BetterTTV        11209.0\n",
       "FrankerFaceZ     14774.0\n",
       "Global Twitch     5722.0\n",
       "Tier 1           37379.0\n",
       "Tier 2               0.0\n",
       "Tier 3             367.0\n",
       "Name: fedmyster_count, dtype: float64"
      ]
     },
     "execution_count": 489,
     "metadata": {},
     "output_type": "execute_result"
    }
   ],
   "source": [
    "grumps['fedmyster_count']['fedmyster'].combine(grumps['fedmyster_count']['global'], combine_series)"
   ]
  },
  {
   "cell_type": "code",
   "execution_count": 478,
   "metadata": {},
   "outputs": [
    {
     "data": {
      "text/plain": [
       "BetterTTV        11209.0\n",
       "FrankerFaceZ     14774.0\n",
       "Global Twitch     5722.0\n",
       "Tier 1           37379.0\n",
       "Tier 2               0.0\n",
       "Tier 3             367.0\n",
       "Other             1130.0\n",
       "dtype: float64"
      ]
     },
     "execution_count": 478,
     "metadata": {},
     "output_type": "execute_result"
    }
   ],
   "source": [
    "grumpy_grumps.append(pd.Series(grumps['fedmyster_count'].sum() - grumpy_grumps.sum(), index=['Other']))"
   ]
  },
  {
   "cell_type": "code",
   "execution_count": 492,
   "metadata": {},
   "outputs": [
    {
     "data": {
      "text/plain": [
       "fedmyster   BetterTTV               11209.0\n",
       "            FrankerFaceZ            14774.0\n",
       "            Global Twitch            5722.0\n",
       "            Tier 1                  37379.0\n",
       "            Tier 2                      0.0\n",
       "            Tier 3                    367.0\n",
       "            Other Channel Emotes     1130.0\n",
       "lilypichu   BetterTTV                1493.0\n",
       "            FrankerFaceZ              138.0\n",
       "            Global Twitch            7260.0\n",
       "            Tier 1                   7568.0\n",
       "            Tier 2                      5.0\n",
       "            Tier 3                      0.0\n",
       "            Other Channel Emotes     6145.0\n",
       "pokimane    BetterTTV                2667.0\n",
       "            FrankerFaceZ              888.0\n",
       "            Global Twitch           12604.0\n",
       "            Tier 1                   3235.0\n",
       "            Tier 2                      0.0\n",
       "            Tier 3                     23.0\n",
       "            Other Channel Emotes    10067.0\n",
       "scarra      BetterTTV                 706.0\n",
       "            FrankerFaceZ               12.0\n",
       "            Global Twitch            2876.0\n",
       "            Tier 1                   1351.0\n",
       "            Tier 2                      0.0\n",
       "            Tier 3                      2.0\n",
       "            Other Channel Emotes    10002.0\n",
       "sykkuno     BetterTTV                 340.0\n",
       "            FrankerFaceZ               22.0\n",
       "            Global Twitch            3997.0\n",
       "            Tier 1                  10611.0\n",
       "            Other Channel Emotes     5102.0\n",
       "xchocobars  BetterTTV                 629.0\n",
       "            FrankerFaceZ               57.0\n",
       "            Global Twitch            2671.0\n",
       "            Tier 1                   1377.0\n",
       "            Tier 2                      7.0\n",
       "            Tier 3                      2.0\n",
       "            Other Channel Emotes     6743.0\n",
       "yassuo      BetterTTV                2262.0\n",
       "            FrankerFaceZ              328.0\n",
       "            Global Twitch            5035.0\n",
       "            Tier 1                   2742.0\n",
       "            Other Channel Emotes     9296.0\n",
       "yvonnie     BetterTTV                 102.0\n",
       "            FrankerFaceZ                6.0\n",
       "            Global Twitch             876.0\n",
       "            Tier 1                   1652.0\n",
       "            Tier 2                      0.0\n",
       "            Tier 3                      0.0\n",
       "            Other Channel Emotes     1191.0\n",
       "dtype: float64"
      ]
     },
     "execution_count": 492,
     "metadata": {},
     "output_type": "execute_result"
    }
   ],
   "source": [
    "series = []\n",
    "channels = df.channel.unique()\n",
    "for c in channels:\n",
    "    grumpy_grumps = grumps[f'{c}_count'][c].combine(grumps[f'{c}_count']['global'], combine_series)\n",
    "    grumpy_grumps = grumpy_grumps.append(pd.Series(grumps[f'{c}_count'].sum() - grumpy_grumps.sum(), index=['Other Channel Emotes']))\n",
    "    top_index = [c] * len(grumpy_grumps.index)\n",
    "    multi_index = pd.MultiIndex.from_tuples(list(zip(top_index, grumpy_grumps.index)))\n",
    "    series.append(pd.Series(grumpy_grumps.values, index=multi_index))\n",
    "pd.concat(series)"
   ]
  },
  {
   "cell_type": "code",
   "execution_count": null,
   "metadata": {},
   "outputs": [],
   "source": []
  }
 ],
 "metadata": {
  "kernelspec": {
   "display_name": "Python 3",
   "language": "python",
   "name": "python3"
  },
  "language_info": {
   "codemirror_mode": {
    "name": "ipython",
    "version": 3
   },
   "file_extension": ".py",
   "mimetype": "text/x-python",
   "name": "python",
   "nbconvert_exporter": "python",
   "pygments_lexer": "ipython3",
   "version": "3.7.4"
  }
 },
 "nbformat": 4,
 "nbformat_minor": 2
}
